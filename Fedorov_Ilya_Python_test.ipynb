{
 "cells": [
  {
   "cell_type": "code",
   "execution_count": 1,
   "metadata": {},
   "outputs": [],
   "source": [
    "import pandas as pd"
   ]
  },
  {
   "cell_type": "markdown",
   "metadata": {},
   "source": [
    "Откройте файл Product_Sales.csv и выведите первые 10 строк.\n",
    "Посмотрите на данные и скажите, что они из себя представляют.\n",
    "Cколько в таблице строк и полей? Какие типы данных есть в датасете? Есть ли пустые значения?"
   ]
  },
  {
   "cell_type": "code",
   "execution_count": null,
   "metadata": {},
   "outputs": [],
   "source": [
    "# invoice_num: Номер счета\n",
    "# customer_id: ID клиента\n",
    "# gender: Пол клиента\n",
    "# age: Возраст клиента\n",
    "# category: Категория товара\n",
    "# quantity: Количество проданных товаров в рамках одного счета\n",
    "# selling_price_per_unit: Стоимость продажи 1 ед.товара\n",
    "# cost_price_per_unit: Себестоимость 1 ед.товара\n",
    "# region: Регион\n",
    "# state: Штат\n",
    "# shopping_mall: Магазин"
   ]
  },
  {
   "cell_type": "markdown",
   "metadata": {},
   "source": [
    "Открываю файл Product_Sales.csv"
   ]
  },
  {
   "cell_type": "code",
   "execution_count": 2,
   "metadata": {},
   "outputs": [],
   "source": [
    "df = pd.read_csv('Product_Sales.csv')"
   ]
  },
  {
   "cell_type": "markdown",
   "metadata": {},
   "source": [
    "Вывод первых 10 строк из файла"
   ]
  },
  {
   "cell_type": "code",
   "execution_count": 3,
   "metadata": {},
   "outputs": [
    {
     "data": {
      "text/html": [
       "<div>\n",
       "<style scoped>\n",
       "    .dataframe tbody tr th:only-of-type {\n",
       "        vertical-align: middle;\n",
       "    }\n",
       "\n",
       "    .dataframe tbody tr th {\n",
       "        vertical-align: top;\n",
       "    }\n",
       "\n",
       "    .dataframe thead th {\n",
       "        text-align: right;\n",
       "    }\n",
       "</style>\n",
       "<table border=\"1\" class=\"dataframe\">\n",
       "  <thead>\n",
       "    <tr style=\"text-align: right;\">\n",
       "      <th></th>\n",
       "      <th>invoice_num</th>\n",
       "      <th>invoice_date</th>\n",
       "      <th>customer_id</th>\n",
       "      <th>gender</th>\n",
       "      <th>age</th>\n",
       "      <th>category</th>\n",
       "      <th>quantity</th>\n",
       "      <th>selling_price_per_unit</th>\n",
       "      <th>cost_price_per_unit</th>\n",
       "      <th>region</th>\n",
       "      <th>state</th>\n",
       "      <th>shopping_mall</th>\n",
       "    </tr>\n",
       "  </thead>\n",
       "  <tbody>\n",
       "    <tr>\n",
       "      <th>0</th>\n",
       "      <td>I138884</td>\n",
       "      <td>10/30/2016 9:58</td>\n",
       "      <td>C241288</td>\n",
       "      <td>Female</td>\n",
       "      <td>28.0</td>\n",
       "      <td>Clothing</td>\n",
       "      <td>5</td>\n",
       "      <td>1500.40</td>\n",
       "      <td>1425.38</td>\n",
       "      <td>South</td>\n",
       "      <td>Kentucky</td>\n",
       "      <td>Kanyon</td>\n",
       "    </tr>\n",
       "    <tr>\n",
       "      <th>1</th>\n",
       "      <td>I317333</td>\n",
       "      <td>10/30/2016 9:58</td>\n",
       "      <td>C111565</td>\n",
       "      <td>Male</td>\n",
       "      <td>21.0</td>\n",
       "      <td>Shoes</td>\n",
       "      <td>3</td>\n",
       "      <td>1800.51</td>\n",
       "      <td>1620.46</td>\n",
       "      <td>South</td>\n",
       "      <td>Kentucky</td>\n",
       "      <td>Viaport Outlet</td>\n",
       "    </tr>\n",
       "    <tr>\n",
       "      <th>2</th>\n",
       "      <td>I127801</td>\n",
       "      <td>10/30/2016 9:58</td>\n",
       "      <td>C266599</td>\n",
       "      <td>Male</td>\n",
       "      <td>20.0</td>\n",
       "      <td>Clothing</td>\n",
       "      <td>1</td>\n",
       "      <td>300.08</td>\n",
       "      <td>295.06</td>\n",
       "      <td>West</td>\n",
       "      <td>California</td>\n",
       "      <td>Metrocity</td>\n",
       "    </tr>\n",
       "    <tr>\n",
       "      <th>3</th>\n",
       "      <td>I173702</td>\n",
       "      <td>10/30/2016 9:58</td>\n",
       "      <td>C988172</td>\n",
       "      <td>Female</td>\n",
       "      <td>66.0</td>\n",
       "      <td>Shoes</td>\n",
       "      <td>5</td>\n",
       "      <td>3000.85</td>\n",
       "      <td>2900.76</td>\n",
       "      <td>South</td>\n",
       "      <td>Florida</td>\n",
       "      <td>Metropol AVM</td>\n",
       "    </tr>\n",
       "    <tr>\n",
       "      <th>4</th>\n",
       "      <td>I337046</td>\n",
       "      <td>10/30/2016 9:59</td>\n",
       "      <td>C189076</td>\n",
       "      <td>Female</td>\n",
       "      <td>53.0</td>\n",
       "      <td>Books</td>\n",
       "      <td>4</td>\n",
       "      <td>60.60</td>\n",
       "      <td>45.45</td>\n",
       "      <td>South</td>\n",
       "      <td>Florida</td>\n",
       "      <td>Kanyon</td>\n",
       "    </tr>\n",
       "    <tr>\n",
       "      <th>5</th>\n",
       "      <td>I227836</td>\n",
       "      <td>10/30/2016 9:59</td>\n",
       "      <td>C657758</td>\n",
       "      <td>Female</td>\n",
       "      <td>28.0</td>\n",
       "      <td>Clothing</td>\n",
       "      <td>5</td>\n",
       "      <td>1500.40</td>\n",
       "      <td>1475.38</td>\n",
       "      <td>West</td>\n",
       "      <td>Oregon</td>\n",
       "      <td>Viaport Outlet</td>\n",
       "    </tr>\n",
       "    <tr>\n",
       "      <th>6</th>\n",
       "      <td>I121056</td>\n",
       "      <td>10/30/2016 9:59</td>\n",
       "      <td>C151197</td>\n",
       "      <td>Female</td>\n",
       "      <td>49.0</td>\n",
       "      <td>Cosmetics</td>\n",
       "      <td>1</td>\n",
       "      <td>40.66</td>\n",
       "      <td>35.46</td>\n",
       "      <td>West</td>\n",
       "      <td>California</td>\n",
       "      <td>Istinye Park</td>\n",
       "    </tr>\n",
       "    <tr>\n",
       "      <th>7</th>\n",
       "      <td>I293112</td>\n",
       "      <td>10/30/2016 9:59</td>\n",
       "      <td>C176086</td>\n",
       "      <td>Female</td>\n",
       "      <td>32.0</td>\n",
       "      <td>Clothing</td>\n",
       "      <td>2</td>\n",
       "      <td>600.16</td>\n",
       "      <td>450.12</td>\n",
       "      <td>West</td>\n",
       "      <td>California</td>\n",
       "      <td>Mall of Istanbul</td>\n",
       "    </tr>\n",
       "    <tr>\n",
       "      <th>8</th>\n",
       "      <td>I293455</td>\n",
       "      <td>10/30/2016 10:00</td>\n",
       "      <td>C159642</td>\n",
       "      <td>Male</td>\n",
       "      <td>69.0</td>\n",
       "      <td>Clothing</td>\n",
       "      <td>3</td>\n",
       "      <td>900.24</td>\n",
       "      <td>675.18</td>\n",
       "      <td>West</td>\n",
       "      <td>California</td>\n",
       "      <td>Metrocity</td>\n",
       "    </tr>\n",
       "    <tr>\n",
       "      <th>9</th>\n",
       "      <td>I326945</td>\n",
       "      <td>10/30/2016 10:00</td>\n",
       "      <td>C283361</td>\n",
       "      <td>Female</td>\n",
       "      <td>60.0</td>\n",
       "      <td>Clothing</td>\n",
       "      <td>2</td>\n",
       "      <td>600.16</td>\n",
       "      <td>450.12</td>\n",
       "      <td>West</td>\n",
       "      <td>California</td>\n",
       "      <td>Kanyon</td>\n",
       "    </tr>\n",
       "  </tbody>\n",
       "</table>\n",
       "</div>"
      ],
      "text/plain": [
       "  invoice_num      invoice_date customer_id  gender   age   category   \n",
       "0     I138884   10/30/2016 9:58     C241288  Female  28.0   Clothing  \\\n",
       "1     I317333   10/30/2016 9:58     C111565    Male  21.0      Shoes   \n",
       "2     I127801   10/30/2016 9:58     C266599    Male  20.0   Clothing   \n",
       "3     I173702   10/30/2016 9:58     C988172  Female  66.0      Shoes   \n",
       "4     I337046   10/30/2016 9:59     C189076  Female  53.0      Books   \n",
       "5     I227836   10/30/2016 9:59     C657758  Female  28.0   Clothing   \n",
       "6     I121056   10/30/2016 9:59     C151197  Female  49.0  Cosmetics   \n",
       "7     I293112   10/30/2016 9:59     C176086  Female  32.0   Clothing   \n",
       "8     I293455  10/30/2016 10:00     C159642    Male  69.0   Clothing   \n",
       "9     I326945  10/30/2016 10:00     C283361  Female  60.0   Clothing   \n",
       "\n",
       "   quantity  selling_price_per_unit  cost_price_per_unit region       state   \n",
       "0         5                 1500.40              1425.38  South    Kentucky  \\\n",
       "1         3                 1800.51              1620.46  South    Kentucky   \n",
       "2         1                  300.08               295.06   West  California   \n",
       "3         5                 3000.85              2900.76  South     Florida   \n",
       "4         4                   60.60                45.45  South     Florida   \n",
       "5         5                 1500.40              1475.38   West      Oregon   \n",
       "6         1                   40.66                35.46   West  California   \n",
       "7         2                  600.16               450.12   West  California   \n",
       "8         3                  900.24               675.18   West  California   \n",
       "9         2                  600.16               450.12   West  California   \n",
       "\n",
       "      shopping_mall  \n",
       "0            Kanyon  \n",
       "1    Viaport Outlet  \n",
       "2         Metrocity  \n",
       "3      Metropol AVM  \n",
       "4            Kanyon  \n",
       "5    Viaport Outlet  \n",
       "6      Istinye Park  \n",
       "7  Mall of Istanbul  \n",
       "8         Metrocity  \n",
       "9            Kanyon  "
      ]
     },
     "execution_count": 3,
     "metadata": {},
     "output_type": "execute_result"
    }
   ],
   "source": [
    "df.head(10)"
   ]
  },
  {
   "cell_type": "markdown",
   "metadata": {},
   "source": [
    "Количество строк и полей в датасете"
   ]
  },
  {
   "cell_type": "code",
   "execution_count": 4,
   "metadata": {},
   "outputs": [
    {
     "name": "stdout",
     "output_type": "stream",
     "text": [
      "Количество строк: 99949\n",
      "Количество полей: 12\n"
     ]
    }
   ],
   "source": [
    "print('Количество строк: ' + str(df.shape[0]))\n",
    "print('Количество полей: ' + str(df.shape[1]))"
   ]
  },
  {
   "cell_type": "markdown",
   "metadata": {},
   "source": [
    "Типы данных в датасете"
   ]
  },
  {
   "cell_type": "code",
   "execution_count": 5,
   "metadata": {},
   "outputs": [
    {
     "data": {
      "text/plain": [
       "invoice_num                object\n",
       "invoice_date               object\n",
       "customer_id                object\n",
       "gender                     object\n",
       "age                       float64\n",
       "category                   object\n",
       "quantity                    int64\n",
       "selling_price_per_unit    float64\n",
       "cost_price_per_unit       float64\n",
       "region                     object\n",
       "state                      object\n",
       "shopping_mall              object\n",
       "dtype: object"
      ]
     },
     "execution_count": 5,
     "metadata": {},
     "output_type": "execute_result"
    }
   ],
   "source": [
    "df.dtypes"
   ]
  },
  {
   "cell_type": "markdown",
   "metadata": {},
   "source": [
    "Проверка на пустые значения"
   ]
  },
  {
   "cell_type": "code",
   "execution_count": 6,
   "metadata": {},
   "outputs": [
    {
     "data": {
      "text/plain": [
       "invoice_num               0\n",
       "invoice_date              0\n",
       "customer_id               0\n",
       "gender                    6\n",
       "age                       6\n",
       "category                  0\n",
       "quantity                  0\n",
       "selling_price_per_unit    0\n",
       "cost_price_per_unit       0\n",
       "region                    0\n",
       "state                     0\n",
       "shopping_mall             0\n",
       "dtype: int64"
      ]
     },
     "execution_count": 6,
     "metadata": {},
     "output_type": "execute_result"
    }
   ],
   "source": [
    "df.isna().sum()"
   ]
  },
  {
   "cell_type": "markdown",
   "metadata": {},
   "source": [
    "6 пустых значений в полях gender и age. Рассмотрим их в таблице"
   ]
  },
  {
   "cell_type": "code",
   "execution_count": 7,
   "metadata": {},
   "outputs": [
    {
     "data": {
      "text/html": [
       "<div>\n",
       "<style scoped>\n",
       "    .dataframe tbody tr th:only-of-type {\n",
       "        vertical-align: middle;\n",
       "    }\n",
       "\n",
       "    .dataframe tbody tr th {\n",
       "        vertical-align: top;\n",
       "    }\n",
       "\n",
       "    .dataframe thead th {\n",
       "        text-align: right;\n",
       "    }\n",
       "</style>\n",
       "<table border=\"1\" class=\"dataframe\">\n",
       "  <thead>\n",
       "    <tr style=\"text-align: right;\">\n",
       "      <th></th>\n",
       "      <th>invoice_num</th>\n",
       "      <th>invoice_date</th>\n",
       "      <th>customer_id</th>\n",
       "      <th>gender</th>\n",
       "      <th>age</th>\n",
       "      <th>category</th>\n",
       "      <th>quantity</th>\n",
       "      <th>selling_price_per_unit</th>\n",
       "      <th>cost_price_per_unit</th>\n",
       "      <th>region</th>\n",
       "      <th>state</th>\n",
       "      <th>shopping_mall</th>\n",
       "    </tr>\n",
       "  </thead>\n",
       "  <tbody>\n",
       "    <tr>\n",
       "      <th>24869</th>\n",
       "      <td>I170688</td>\n",
       "      <td>11/3/2016 10:40</td>\n",
       "      <td>C124074</td>\n",
       "      <td>NaN</td>\n",
       "      <td>NaN</td>\n",
       "      <td>Food &amp; Beverage</td>\n",
       "      <td>3</td>\n",
       "      <td>15.69</td>\n",
       "      <td>10.98</td>\n",
       "      <td>West</td>\n",
       "      <td>California</td>\n",
       "      <td>Istinye Park</td>\n",
       "    </tr>\n",
       "    <tr>\n",
       "      <th>24902</th>\n",
       "      <td>I142979</td>\n",
       "      <td>11/3/2016 10:48</td>\n",
       "      <td>C286077</td>\n",
       "      <td>NaN</td>\n",
       "      <td>NaN</td>\n",
       "      <td>Cosmetics</td>\n",
       "      <td>1</td>\n",
       "      <td>40.66</td>\n",
       "      <td>28.46</td>\n",
       "      <td>South</td>\n",
       "      <td>Virginia</td>\n",
       "      <td>Zorlu Center</td>\n",
       "    </tr>\n",
       "    <tr>\n",
       "      <th>62093</th>\n",
       "      <td>I321403</td>\n",
       "      <td>11/9/2016 11:26</td>\n",
       "      <td>C957905</td>\n",
       "      <td>NaN</td>\n",
       "      <td>NaN</td>\n",
       "      <td>Souvenir</td>\n",
       "      <td>2</td>\n",
       "      <td>23.46</td>\n",
       "      <td>16.42</td>\n",
       "      <td>West</td>\n",
       "      <td>California</td>\n",
       "      <td>Viaport Outlet</td>\n",
       "    </tr>\n",
       "    <tr>\n",
       "      <th>62164</th>\n",
       "      <td>I834335</td>\n",
       "      <td>11/9/2016 11:43</td>\n",
       "      <td>C740421</td>\n",
       "      <td>NaN</td>\n",
       "      <td>NaN</td>\n",
       "      <td>Toys</td>\n",
       "      <td>5</td>\n",
       "      <td>179.20</td>\n",
       "      <td>143.36</td>\n",
       "      <td>Central</td>\n",
       "      <td>Texas</td>\n",
       "      <td>Viaport Outlet</td>\n",
       "    </tr>\n",
       "    <tr>\n",
       "      <th>99372</th>\n",
       "      <td>I134370</td>\n",
       "      <td>11/15/2016 12:24</td>\n",
       "      <td>C524812</td>\n",
       "      <td>NaN</td>\n",
       "      <td>NaN</td>\n",
       "      <td>Cosmetics</td>\n",
       "      <td>4</td>\n",
       "      <td>162.64</td>\n",
       "      <td>130.11</td>\n",
       "      <td>West</td>\n",
       "      <td>California</td>\n",
       "      <td>Kanyon</td>\n",
       "    </tr>\n",
       "    <tr>\n",
       "      <th>99455</th>\n",
       "      <td>I702964</td>\n",
       "      <td>11/15/2016 12:44</td>\n",
       "      <td>C800631</td>\n",
       "      <td>NaN</td>\n",
       "      <td>NaN</td>\n",
       "      <td>Technology</td>\n",
       "      <td>4</td>\n",
       "      <td>4200.00</td>\n",
       "      <td>3780.00</td>\n",
       "      <td>South</td>\n",
       "      <td>Georgia</td>\n",
       "      <td>Istinye Park</td>\n",
       "    </tr>\n",
       "  </tbody>\n",
       "</table>\n",
       "</div>"
      ],
      "text/plain": [
       "      invoice_num      invoice_date customer_id gender  age         category   \n",
       "24869     I170688   11/3/2016 10:40     C124074    NaN  NaN  Food & Beverage  \\\n",
       "24902     I142979   11/3/2016 10:48     C286077    NaN  NaN        Cosmetics   \n",
       "62093     I321403   11/9/2016 11:26     C957905    NaN  NaN         Souvenir   \n",
       "62164     I834335   11/9/2016 11:43     C740421    NaN  NaN             Toys   \n",
       "99372     I134370  11/15/2016 12:24     C524812    NaN  NaN        Cosmetics   \n",
       "99455     I702964  11/15/2016 12:44     C800631    NaN  NaN       Technology   \n",
       "\n",
       "       quantity  selling_price_per_unit  cost_price_per_unit   region   \n",
       "24869         3                   15.69                10.98     West  \\\n",
       "24902         1                   40.66                28.46    South   \n",
       "62093         2                   23.46                16.42     West   \n",
       "62164         5                  179.20               143.36  Central   \n",
       "99372         4                  162.64               130.11     West   \n",
       "99455         4                 4200.00              3780.00    South   \n",
       "\n",
       "            state   shopping_mall  \n",
       "24869  California    Istinye Park  \n",
       "24902    Virginia    Zorlu Center  \n",
       "62093  California  Viaport Outlet  \n",
       "62164       Texas  Viaport Outlet  \n",
       "99372  California          Kanyon  \n",
       "99455     Georgia    Istinye Park  "
      ]
     },
     "execution_count": 7,
     "metadata": {},
     "output_type": "execute_result"
    }
   ],
   "source": [
    "df.loc[df.gender.isnull()]"
   ]
  },
  {
   "cell_type": "markdown",
   "metadata": {},
   "source": [
    "у 6 покупателей  отсутствовали данные о поле и возрасте. Стоит отметить, что было совершено по 2 покупки в три разных дня, причем с равным интервалом в днях (3, 9, 15) в разных магазинах. Временной интервал между покупками в один день составил от 8 до 20 минут. Возможно это связано со сбоями в системе или техническими работами. Либо покупатели не указали свои данные, так как это их первые и единственные покупки. Показано ниже"
   ]
  },
  {
   "cell_type": "code",
   "execution_count": 8,
   "metadata": {},
   "outputs": [
    {
     "data": {
      "text/html": [
       "<div>\n",
       "<style scoped>\n",
       "    .dataframe tbody tr th:only-of-type {\n",
       "        vertical-align: middle;\n",
       "    }\n",
       "\n",
       "    .dataframe tbody tr th {\n",
       "        vertical-align: top;\n",
       "    }\n",
       "\n",
       "    .dataframe thead th {\n",
       "        text-align: right;\n",
       "    }\n",
       "</style>\n",
       "<table border=\"1\" class=\"dataframe\">\n",
       "  <thead>\n",
       "    <tr style=\"text-align: right;\">\n",
       "      <th></th>\n",
       "      <th>invoice_num</th>\n",
       "      <th>invoice_date</th>\n",
       "      <th>customer_id</th>\n",
       "      <th>gender</th>\n",
       "      <th>age</th>\n",
       "      <th>category</th>\n",
       "      <th>quantity</th>\n",
       "      <th>selling_price_per_unit</th>\n",
       "      <th>cost_price_per_unit</th>\n",
       "      <th>region</th>\n",
       "      <th>state</th>\n",
       "      <th>shopping_mall</th>\n",
       "    </tr>\n",
       "  </thead>\n",
       "  <tbody>\n",
       "    <tr>\n",
       "      <th>24869</th>\n",
       "      <td>I170688</td>\n",
       "      <td>11/3/2016 10:40</td>\n",
       "      <td>C124074</td>\n",
       "      <td>NaN</td>\n",
       "      <td>NaN</td>\n",
       "      <td>Food &amp; Beverage</td>\n",
       "      <td>3</td>\n",
       "      <td>15.69</td>\n",
       "      <td>10.98</td>\n",
       "      <td>West</td>\n",
       "      <td>California</td>\n",
       "      <td>Istinye Park</td>\n",
       "    </tr>\n",
       "    <tr>\n",
       "      <th>24902</th>\n",
       "      <td>I142979</td>\n",
       "      <td>11/3/2016 10:48</td>\n",
       "      <td>C286077</td>\n",
       "      <td>NaN</td>\n",
       "      <td>NaN</td>\n",
       "      <td>Cosmetics</td>\n",
       "      <td>1</td>\n",
       "      <td>40.66</td>\n",
       "      <td>28.46</td>\n",
       "      <td>South</td>\n",
       "      <td>Virginia</td>\n",
       "      <td>Zorlu Center</td>\n",
       "    </tr>\n",
       "    <tr>\n",
       "      <th>62093</th>\n",
       "      <td>I321403</td>\n",
       "      <td>11/9/2016 11:26</td>\n",
       "      <td>C957905</td>\n",
       "      <td>NaN</td>\n",
       "      <td>NaN</td>\n",
       "      <td>Souvenir</td>\n",
       "      <td>2</td>\n",
       "      <td>23.46</td>\n",
       "      <td>16.42</td>\n",
       "      <td>West</td>\n",
       "      <td>California</td>\n",
       "      <td>Viaport Outlet</td>\n",
       "    </tr>\n",
       "    <tr>\n",
       "      <th>62164</th>\n",
       "      <td>I834335</td>\n",
       "      <td>11/9/2016 11:43</td>\n",
       "      <td>C740421</td>\n",
       "      <td>NaN</td>\n",
       "      <td>NaN</td>\n",
       "      <td>Toys</td>\n",
       "      <td>5</td>\n",
       "      <td>179.20</td>\n",
       "      <td>143.36</td>\n",
       "      <td>Central</td>\n",
       "      <td>Texas</td>\n",
       "      <td>Viaport Outlet</td>\n",
       "    </tr>\n",
       "    <tr>\n",
       "      <th>99372</th>\n",
       "      <td>I134370</td>\n",
       "      <td>11/15/2016 12:24</td>\n",
       "      <td>C524812</td>\n",
       "      <td>NaN</td>\n",
       "      <td>NaN</td>\n",
       "      <td>Cosmetics</td>\n",
       "      <td>4</td>\n",
       "      <td>162.64</td>\n",
       "      <td>130.11</td>\n",
       "      <td>West</td>\n",
       "      <td>California</td>\n",
       "      <td>Kanyon</td>\n",
       "    </tr>\n",
       "    <tr>\n",
       "      <th>99455</th>\n",
       "      <td>I702964</td>\n",
       "      <td>11/15/2016 12:44</td>\n",
       "      <td>C800631</td>\n",
       "      <td>NaN</td>\n",
       "      <td>NaN</td>\n",
       "      <td>Technology</td>\n",
       "      <td>4</td>\n",
       "      <td>4200.00</td>\n",
       "      <td>3780.00</td>\n",
       "      <td>South</td>\n",
       "      <td>Georgia</td>\n",
       "      <td>Istinye Park</td>\n",
       "    </tr>\n",
       "  </tbody>\n",
       "</table>\n",
       "</div>"
      ],
      "text/plain": [
       "      invoice_num      invoice_date customer_id gender  age         category   \n",
       "24869     I170688   11/3/2016 10:40     C124074    NaN  NaN  Food & Beverage  \\\n",
       "24902     I142979   11/3/2016 10:48     C286077    NaN  NaN        Cosmetics   \n",
       "62093     I321403   11/9/2016 11:26     C957905    NaN  NaN         Souvenir   \n",
       "62164     I834335   11/9/2016 11:43     C740421    NaN  NaN             Toys   \n",
       "99372     I134370  11/15/2016 12:24     C524812    NaN  NaN        Cosmetics   \n",
       "99455     I702964  11/15/2016 12:44     C800631    NaN  NaN       Technology   \n",
       "\n",
       "       quantity  selling_price_per_unit  cost_price_per_unit   region   \n",
       "24869         3                   15.69                10.98     West  \\\n",
       "24902         1                   40.66                28.46    South   \n",
       "62093         2                   23.46                16.42     West   \n",
       "62164         5                  179.20               143.36  Central   \n",
       "99372         4                  162.64               130.11     West   \n",
       "99455         4                 4200.00              3780.00    South   \n",
       "\n",
       "            state   shopping_mall  \n",
       "24869  California    Istinye Park  \n",
       "24902    Virginia    Zorlu Center  \n",
       "62093  California  Viaport Outlet  \n",
       "62164       Texas  Viaport Outlet  \n",
       "99372  California          Kanyon  \n",
       "99455     Georgia    Istinye Park  "
      ]
     },
     "execution_count": 8,
     "metadata": {},
     "output_type": "execute_result"
    }
   ],
   "source": [
    "list_nan = df.loc[df.gender.isnull()].customer_id.tolist()\n",
    "df.query(\"customer_id.isin(@list_nan)\")"
   ]
  },
  {
   "cell_type": "markdown",
   "metadata": {},
   "source": [
    "Рассмотрим временной интервал, за который приведены данные"
   ]
  },
  {
   "cell_type": "code",
   "execution_count": 9,
   "metadata": {},
   "outputs": [
    {
     "data": {
      "text/plain": [
       "array([datetime.date(2016, 10, 30), datetime.date(2016, 10, 31),\n",
       "       datetime.date(2016, 11, 1), datetime.date(2016, 11, 2),\n",
       "       datetime.date(2016, 11, 3), datetime.date(2016, 11, 4),\n",
       "       datetime.date(2016, 11, 5), datetime.date(2016, 11, 6),\n",
       "       datetime.date(2016, 11, 7), datetime.date(2016, 11, 8),\n",
       "       datetime.date(2016, 11, 9), datetime.date(2016, 11, 10),\n",
       "       datetime.date(2016, 11, 11), datetime.date(2016, 11, 12),\n",
       "       datetime.date(2016, 11, 13), datetime.date(2016, 11, 14),\n",
       "       datetime.date(2016, 11, 15)], dtype=object)"
      ]
     },
     "execution_count": 9,
     "metadata": {},
     "output_type": "execute_result"
    }
   ],
   "source": [
    "df['invoice_date'] = pd.to_datetime(df.invoice_date)\n",
    "df['invoice_only_date'] = df['invoice_date'].dt.date\n",
    "df.invoice_only_date.unique()"
   ]
  },
  {
   "cell_type": "markdown",
   "metadata": {},
   "source": [
    "В датасете представлены данные о покупках различных товаров на территории США в период с 30 октября по 15 ноября 2016 года с указанием информации о клиенте, магазине и счете."
   ]
  },
  {
   "cell_type": "code",
   "execution_count": 10,
   "metadata": {},
   "outputs": [
    {
     "name": "stdout",
     "output_type": "stream",
     "text": [
      "Количество уникальных номеров счета: 99457\n",
      "Количество строк: 99949\n"
     ]
    }
   ],
   "source": [
    "print('Количество уникальных номеров счета: ' + str(df.invoice_num.nunique()))\n",
    "print('Количество строк: ' + str(df.shape[0]))"
   ]
  },
  {
   "cell_type": "code",
   "execution_count": 11,
   "metadata": {},
   "outputs": [
    {
     "data": {
      "text/plain": [
       "442"
      ]
     },
     "execution_count": 11,
     "metadata": {},
     "output_type": "execute_result"
    }
   ],
   "source": [
    "len(df.invoice_num.value_counts().loc[lambda x : x == 2])"
   ]
  },
  {
   "cell_type": "code",
   "execution_count": 12,
   "metadata": {},
   "outputs": [
    {
     "data": {
      "text/plain": [
       "25"
      ]
     },
     "execution_count": 12,
     "metadata": {},
     "output_type": "execute_result"
    }
   ],
   "source": [
    "len(df.invoice_num.value_counts().loc[lambda x : x == 3])"
   ]
  },
  {
   "cell_type": "markdown",
   "metadata": {},
   "source": [
    "Стоит отметить, что 442 номера счета повторяются дважды в датасете, а 25 трижды. Возможно это дубликаты. Рассмотрим ниже"
   ]
  },
  {
   "cell_type": "code",
   "execution_count": 13,
   "metadata": {},
   "outputs": [
    {
     "data": {
      "text/html": [
       "<div>\n",
       "<style scoped>\n",
       "    .dataframe tbody tr th:only-of-type {\n",
       "        vertical-align: middle;\n",
       "    }\n",
       "\n",
       "    .dataframe tbody tr th {\n",
       "        vertical-align: top;\n",
       "    }\n",
       "\n",
       "    .dataframe thead th {\n",
       "        text-align: right;\n",
       "    }\n",
       "</style>\n",
       "<table border=\"1\" class=\"dataframe\">\n",
       "  <thead>\n",
       "    <tr style=\"text-align: right;\">\n",
       "      <th></th>\n",
       "      <th>invoice_num</th>\n",
       "      <th>invoice_date</th>\n",
       "      <th>customer_id</th>\n",
       "      <th>gender</th>\n",
       "      <th>age</th>\n",
       "      <th>category</th>\n",
       "      <th>quantity</th>\n",
       "      <th>selling_price_per_unit</th>\n",
       "      <th>cost_price_per_unit</th>\n",
       "      <th>region</th>\n",
       "      <th>state</th>\n",
       "      <th>shopping_mall</th>\n",
       "      <th>invoice_only_date</th>\n",
       "    </tr>\n",
       "  </thead>\n",
       "  <tbody>\n",
       "    <tr>\n",
       "      <th>99940</th>\n",
       "      <td>I100487</td>\n",
       "      <td>2016-10-30 11:45:00</td>\n",
       "      <td>C213360</td>\n",
       "      <td>Female</td>\n",
       "      <td>22.0</td>\n",
       "      <td>Cosmetics</td>\n",
       "      <td>4</td>\n",
       "      <td>162.64</td>\n",
       "      <td>130.11</td>\n",
       "      <td>Central</td>\n",
       "      <td>Illinois</td>\n",
       "      <td>Kanyon</td>\n",
       "      <td>2016-10-30</td>\n",
       "    </tr>\n",
       "    <tr>\n",
       "      <th>458</th>\n",
       "      <td>I100487</td>\n",
       "      <td>2016-10-30 11:45:00</td>\n",
       "      <td>C213360</td>\n",
       "      <td>Female</td>\n",
       "      <td>22.0</td>\n",
       "      <td>Cosmetics</td>\n",
       "      <td>4</td>\n",
       "      <td>162.64</td>\n",
       "      <td>130.11</td>\n",
       "      <td>Central</td>\n",
       "      <td>Illinois</td>\n",
       "      <td>Kanyon</td>\n",
       "      <td>2016-10-30</td>\n",
       "    </tr>\n",
       "    <tr>\n",
       "      <th>99628</th>\n",
       "      <td>I103596</td>\n",
       "      <td>2016-10-30 10:32:00</td>\n",
       "      <td>C178734</td>\n",
       "      <td>Male</td>\n",
       "      <td>52.0</td>\n",
       "      <td>Shoes</td>\n",
       "      <td>5</td>\n",
       "      <td>3000.85</td>\n",
       "      <td>2700.76</td>\n",
       "      <td>East</td>\n",
       "      <td>Ohio</td>\n",
       "      <td>Kanyon</td>\n",
       "      <td>2016-10-30</td>\n",
       "    </tr>\n",
       "    <tr>\n",
       "      <th>146</th>\n",
       "      <td>I103596</td>\n",
       "      <td>2016-10-30 10:32:00</td>\n",
       "      <td>C178734</td>\n",
       "      <td>Male</td>\n",
       "      <td>52.0</td>\n",
       "      <td>Shoes</td>\n",
       "      <td>5</td>\n",
       "      <td>3000.85</td>\n",
       "      <td>2700.76</td>\n",
       "      <td>East</td>\n",
       "      <td>Ohio</td>\n",
       "      <td>Kanyon</td>\n",
       "      <td>2016-10-30</td>\n",
       "    </tr>\n",
       "    <tr>\n",
       "      <th>426</th>\n",
       "      <td>I104404</td>\n",
       "      <td>2016-10-30 11:37:00</td>\n",
       "      <td>C111115</td>\n",
       "      <td>Female</td>\n",
       "      <td>21.0</td>\n",
       "      <td>Shoes</td>\n",
       "      <td>3</td>\n",
       "      <td>1800.51</td>\n",
       "      <td>1620.46</td>\n",
       "      <td>Central</td>\n",
       "      <td>Michigan</td>\n",
       "      <td>Kanyon</td>\n",
       "      <td>2016-10-30</td>\n",
       "    </tr>\n",
       "    <tr>\n",
       "      <th>...</th>\n",
       "      <td>...</td>\n",
       "      <td>...</td>\n",
       "      <td>...</td>\n",
       "      <td>...</td>\n",
       "      <td>...</td>\n",
       "      <td>...</td>\n",
       "      <td>...</td>\n",
       "      <td>...</td>\n",
       "      <td>...</td>\n",
       "      <td>...</td>\n",
       "      <td>...</td>\n",
       "      <td>...</td>\n",
       "      <td>...</td>\n",
       "    </tr>\n",
       "    <tr>\n",
       "      <th>99802</th>\n",
       "      <td>I995407</td>\n",
       "      <td>2016-10-30 11:12:00</td>\n",
       "      <td>C259743</td>\n",
       "      <td>Female</td>\n",
       "      <td>48.0</td>\n",
       "      <td>Souvenir</td>\n",
       "      <td>3</td>\n",
       "      <td>35.19</td>\n",
       "      <td>24.63</td>\n",
       "      <td>East</td>\n",
       "      <td>New York</td>\n",
       "      <td>Metropol AVM</td>\n",
       "      <td>2016-10-30</td>\n",
       "    </tr>\n",
       "    <tr>\n",
       "      <th>445</th>\n",
       "      <td>I995914</td>\n",
       "      <td>2016-10-30 11:42:00</td>\n",
       "      <td>C259260</td>\n",
       "      <td>Male</td>\n",
       "      <td>65.0</td>\n",
       "      <td>Technology</td>\n",
       "      <td>3</td>\n",
       "      <td>3150.00</td>\n",
       "      <td>2677.50</td>\n",
       "      <td>Central</td>\n",
       "      <td>Michigan</td>\n",
       "      <td>Metrocity</td>\n",
       "      <td>2016-10-30</td>\n",
       "    </tr>\n",
       "    <tr>\n",
       "      <th>99927</th>\n",
       "      <td>I995914</td>\n",
       "      <td>2016-10-30 11:42:00</td>\n",
       "      <td>C259260</td>\n",
       "      <td>Male</td>\n",
       "      <td>65.0</td>\n",
       "      <td>Technology</td>\n",
       "      <td>3</td>\n",
       "      <td>3150.00</td>\n",
       "      <td>2677.50</td>\n",
       "      <td>Central</td>\n",
       "      <td>Michigan</td>\n",
       "      <td>Metrocity</td>\n",
       "      <td>2016-10-30</td>\n",
       "    </tr>\n",
       "    <tr>\n",
       "      <th>99854</th>\n",
       "      <td>I998874</td>\n",
       "      <td>2016-10-30 11:24:00</td>\n",
       "      <td>C321053</td>\n",
       "      <td>Female</td>\n",
       "      <td>19.0</td>\n",
       "      <td>Clothing</td>\n",
       "      <td>5</td>\n",
       "      <td>1500.40</td>\n",
       "      <td>1425.38</td>\n",
       "      <td>West</td>\n",
       "      <td>Arizona</td>\n",
       "      <td>Mall of Istanbul</td>\n",
       "      <td>2016-10-30</td>\n",
       "    </tr>\n",
       "    <tr>\n",
       "      <th>372</th>\n",
       "      <td>I998874</td>\n",
       "      <td>2016-10-30 11:24:00</td>\n",
       "      <td>C321053</td>\n",
       "      <td>Female</td>\n",
       "      <td>19.0</td>\n",
       "      <td>Clothing</td>\n",
       "      <td>5</td>\n",
       "      <td>1500.40</td>\n",
       "      <td>1425.38</td>\n",
       "      <td>West</td>\n",
       "      <td>Arizona</td>\n",
       "      <td>Mall of Istanbul</td>\n",
       "      <td>2016-10-30</td>\n",
       "    </tr>\n",
       "  </tbody>\n",
       "</table>\n",
       "<p>959 rows × 13 columns</p>\n",
       "</div>"
      ],
      "text/plain": [
       "      invoice_num        invoice_date customer_id  gender   age    category   \n",
       "99940     I100487 2016-10-30 11:45:00     C213360  Female  22.0   Cosmetics  \\\n",
       "458       I100487 2016-10-30 11:45:00     C213360  Female  22.0   Cosmetics   \n",
       "99628     I103596 2016-10-30 10:32:00     C178734    Male  52.0       Shoes   \n",
       "146       I103596 2016-10-30 10:32:00     C178734    Male  52.0       Shoes   \n",
       "426       I104404 2016-10-30 11:37:00     C111115  Female  21.0       Shoes   \n",
       "...           ...                 ...         ...     ...   ...         ...   \n",
       "99802     I995407 2016-10-30 11:12:00     C259743  Female  48.0    Souvenir   \n",
       "445       I995914 2016-10-30 11:42:00     C259260    Male  65.0  Technology   \n",
       "99927     I995914 2016-10-30 11:42:00     C259260    Male  65.0  Technology   \n",
       "99854     I998874 2016-10-30 11:24:00     C321053  Female  19.0    Clothing   \n",
       "372       I998874 2016-10-30 11:24:00     C321053  Female  19.0    Clothing   \n",
       "\n",
       "       quantity  selling_price_per_unit  cost_price_per_unit   region   \n",
       "99940         4                  162.64               130.11  Central  \\\n",
       "458           4                  162.64               130.11  Central   \n",
       "99628         5                 3000.85              2700.76     East   \n",
       "146           5                 3000.85              2700.76     East   \n",
       "426           3                 1800.51              1620.46  Central   \n",
       "...         ...                     ...                  ...      ...   \n",
       "99802         3                   35.19                24.63     East   \n",
       "445           3                 3150.00              2677.50  Central   \n",
       "99927         3                 3150.00              2677.50  Central   \n",
       "99854         5                 1500.40              1425.38     West   \n",
       "372           5                 1500.40              1425.38     West   \n",
       "\n",
       "          state     shopping_mall invoice_only_date  \n",
       "99940  Illinois            Kanyon        2016-10-30  \n",
       "458    Illinois            Kanyon        2016-10-30  \n",
       "99628      Ohio            Kanyon        2016-10-30  \n",
       "146        Ohio            Kanyon        2016-10-30  \n",
       "426    Michigan            Kanyon        2016-10-30  \n",
       "...         ...               ...               ...  \n",
       "99802  New York      Metropol AVM        2016-10-30  \n",
       "445    Michigan         Metrocity        2016-10-30  \n",
       "99927  Michigan         Metrocity        2016-10-30  \n",
       "99854   Arizona  Mall of Istanbul        2016-10-30  \n",
       "372     Arizona  Mall of Istanbul        2016-10-30  \n",
       "\n",
       "[959 rows x 13 columns]"
      ]
     },
     "execution_count": 13,
     "metadata": {},
     "output_type": "execute_result"
    }
   ],
   "source": [
    "list_dup_invoice_num = df.invoice_num.value_counts().loc[lambda x : x > 1].index.tolist()\n",
    "df.query(\"invoice_num.isin(@list_dup_invoice_num)\").sort_values(by = 'invoice_num')"
   ]
  },
  {
   "cell_type": "markdown",
   "metadata": {},
   "source": [
    " По всем полям видно, что это дубликаты. Причем они записались только 30 октября 2016 года в с 09:58 до 11:46 в разных магазинах. 30 октября 2016 года канун Хэллоуина в США. Ниже приведена градация по категориям покупок среди дубликатов."
   ]
  },
  {
   "cell_type": "code",
   "execution_count": 14,
   "metadata": {},
   "outputs": [
    {
     "data": {
      "text/plain": [
       "<DatetimeArray>\n",
       "['2016-10-30 09:58:00', '2016-10-30 09:59:00', '2016-10-30 10:00:00',\n",
       " '2016-10-30 10:01:00', '2016-10-30 10:02:00', '2016-10-30 10:03:00',\n",
       " '2016-10-30 10:04:00', '2016-10-30 10:05:00', '2016-10-30 10:06:00',\n",
       " '2016-10-30 10:07:00',\n",
       " ...\n",
       " '2016-10-30 11:37:00', '2016-10-30 11:38:00', '2016-10-30 11:39:00',\n",
       " '2016-10-30 11:40:00', '2016-10-30 11:41:00', '2016-10-30 11:42:00',\n",
       " '2016-10-30 11:43:00', '2016-10-30 11:44:00', '2016-10-30 11:45:00',\n",
       " '2016-10-30 11:46:00']\n",
       "Length: 109, dtype: datetime64[ns]"
      ]
     },
     "execution_count": 14,
     "metadata": {},
     "output_type": "execute_result"
    }
   ],
   "source": [
    "df.query(\"invoice_num.isin(@list_dup_invoice_num)\").invoice_date.unique()"
   ]
  },
  {
   "cell_type": "code",
   "execution_count": 15,
   "metadata": {},
   "outputs": [
    {
     "data": {
      "text/plain": [
       "category\n",
       "Clothing           310\n",
       "Food & Beverage    155\n",
       "Cosmetics          152\n",
       "Toys                93\n",
       "Shoes               90\n",
       "Souvenir            58\n",
       "Books               54\n",
       "Technology          47\n",
       "Name: count, dtype: int64"
      ]
     },
     "execution_count": 15,
     "metadata": {},
     "output_type": "execute_result"
    }
   ],
   "source": [
    "df.query(\"invoice_num.isin(@list_dup_invoice_num)\").category.value_counts()"
   ]
  },
  {
   "cell_type": "markdown",
   "metadata": {},
   "source": [
    "Удаляем дубликаты и перезаписываем в новый датафрейм re_df"
   ]
  },
  {
   "cell_type": "code",
   "execution_count": 16,
   "metadata": {},
   "outputs": [
    {
     "name": "stdout",
     "output_type": "stream",
     "text": [
      "Количество строк: 99457\n",
      "Количество полей: 13\n"
     ]
    }
   ],
   "source": [
    "re_df = df.drop_duplicates()\n",
    "print('Количество строк: ' + str(re_df.shape[0]))\n",
    "print('Количество полей: ' + str(re_df.shape[1]))"
   ]
  },
  {
   "cell_type": "code",
   "execution_count": 17,
   "metadata": {},
   "outputs": [
    {
     "name": "stdout",
     "output_type": "stream",
     "text": [
      "Количество уникальных номеров счета: 99457\n",
      "Количество id покупателей: 99457\n"
     ]
    }
   ],
   "source": [
    "print('Количество уникальных номеров счета: ' + str(re_df.invoice_num.nunique()))\n",
    "print('Количество id покупателей: ' + str(re_df.customer_id.nunique()))"
   ]
  },
  {
   "cell_type": "markdown",
   "metadata": {},
   "source": [
    "Уникальные значения в поле пола"
   ]
  },
  {
   "cell_type": "code",
   "execution_count": 18,
   "metadata": {},
   "outputs": [
    {
     "data": {
      "text/plain": [
       "array(['Female', 'Male', nan], dtype=object)"
      ]
     },
     "execution_count": 18,
     "metadata": {},
     "output_type": "execute_result"
    }
   ],
   "source": [
    "re_df.gender.unique()"
   ]
  },
  {
   "cell_type": "markdown",
   "metadata": {},
   "source": [
    "Описание поля возраст"
   ]
  },
  {
   "cell_type": "code",
   "execution_count": 19,
   "metadata": {},
   "outputs": [
    {
     "data": {
      "text/plain": [
       "count    99451.000000\n",
       "mean        43.426904\n",
       "std         14.990030\n",
       "min         18.000000\n",
       "25%         30.000000\n",
       "50%         43.000000\n",
       "75%         56.000000\n",
       "max         69.000000\n",
       "Name: age, dtype: float64"
      ]
     },
     "execution_count": 19,
     "metadata": {},
     "output_type": "execute_result"
    }
   ],
   "source": [
    "re_df.age.describe()"
   ]
  },
  {
   "cell_type": "markdown",
   "metadata": {},
   "source": [
    "Уникальные значения в поле категории товара"
   ]
  },
  {
   "cell_type": "code",
   "execution_count": 20,
   "metadata": {},
   "outputs": [
    {
     "data": {
      "text/plain": [
       "array(['Clothing', 'Shoes', 'Books', 'Cosmetics', 'Food & Beverage',\n",
       "       'Toys', 'Technology', 'Souvenir'], dtype=object)"
      ]
     },
     "execution_count": 20,
     "metadata": {},
     "output_type": "execute_result"
    }
   ],
   "source": [
    "re_df.category.unique()"
   ]
  },
  {
   "cell_type": "markdown",
   "metadata": {},
   "source": [
    "Описание поля количество товаров в счете"
   ]
  },
  {
   "cell_type": "code",
   "execution_count": 21,
   "metadata": {},
   "outputs": [
    {
     "data": {
      "text/plain": [
       "count    99457.000000\n",
       "mean         3.004424\n",
       "std          1.415237\n",
       "min          1.000000\n",
       "25%          2.000000\n",
       "50%          3.000000\n",
       "75%          4.000000\n",
       "max         15.000000\n",
       "Name: quantity, dtype: float64"
      ]
     },
     "execution_count": 21,
     "metadata": {},
     "output_type": "execute_result"
    }
   ],
   "source": [
    "re_df.quantity.describe()"
   ]
  },
  {
   "cell_type": "markdown",
   "metadata": {},
   "source": [
    "Описание поля цена товара"
   ]
  },
  {
   "cell_type": "code",
   "execution_count": 22,
   "metadata": {},
   "outputs": [
    {
     "data": {
      "text/plain": [
       "count    99457.000000\n",
       "mean       689.256321\n",
       "std        941.184567\n",
       "min          5.230000\n",
       "25%         45.450000\n",
       "50%        203.300000\n",
       "75%       1200.320000\n",
       "max       5250.000000\n",
       "Name: selling_price_per_unit, dtype: float64"
      ]
     },
     "execution_count": 22,
     "metadata": {},
     "output_type": "execute_result"
    }
   ],
   "source": [
    "re_df.selling_price_per_unit.describe()"
   ]
  },
  {
   "cell_type": "markdown",
   "metadata": {},
   "source": [
    "Описание поля себестоимость товара"
   ]
  },
  {
   "cell_type": "code",
   "execution_count": 23,
   "metadata": {},
   "outputs": [
    {
     "data": {
      "text/plain": [
       "count    99457.000000\n",
       "mean       605.113160\n",
       "std        858.838416\n",
       "min          3.660000\n",
       "25%         31.820000\n",
       "50%        162.640000\n",
       "75%       1080.310000\n",
       "max       4725.000000\n",
       "Name: cost_price_per_unit, dtype: float64"
      ]
     },
     "execution_count": 23,
     "metadata": {},
     "output_type": "execute_result"
    }
   ],
   "source": [
    "re_df.cost_price_per_unit.describe()"
   ]
  },
  {
   "cell_type": "markdown",
   "metadata": {},
   "source": [
    "Уникальные значения в поле регион"
   ]
  },
  {
   "cell_type": "code",
   "execution_count": 24,
   "metadata": {},
   "outputs": [
    {
     "data": {
      "text/plain": [
       "array(['South', 'West', 'Central', 'East'], dtype=object)"
      ]
     },
     "execution_count": 24,
     "metadata": {},
     "output_type": "execute_result"
    }
   ],
   "source": [
    "re_df.region.unique()"
   ]
  },
  {
   "cell_type": "markdown",
   "metadata": {},
   "source": [
    "Уникальные значения в поле штат"
   ]
  },
  {
   "cell_type": "code",
   "execution_count": 25,
   "metadata": {},
   "outputs": [
    {
     "data": {
      "text/plain": [
       "array(['Kentucky', 'California', 'Florida', 'Oregon', 'Idaho',\n",
       "       'North Carolina', 'Washington', 'Texas', 'Iowa', 'Pennsylvania',\n",
       "       'Illinois', 'Michigan', 'Delaware', 'Indiana', 'New York',\n",
       "       'Arizona', 'Virginia', 'Tennessee', 'Alabama', 'Colorado', 'Ohio',\n",
       "       'Massachusetts', 'Georgia'], dtype=object)"
      ]
     },
     "execution_count": 25,
     "metadata": {},
     "output_type": "execute_result"
    }
   ],
   "source": [
    "re_df.state.unique()"
   ]
  },
  {
   "cell_type": "markdown",
   "metadata": {},
   "source": [
    "Количество уникальных штатов в таблице"
   ]
  },
  {
   "cell_type": "code",
   "execution_count": 26,
   "metadata": {},
   "outputs": [
    {
     "data": {
      "text/plain": [
       "23"
      ]
     },
     "execution_count": 26,
     "metadata": {},
     "output_type": "execute_result"
    }
   ],
   "source": [
    "re_df.state.nunique()"
   ]
  },
  {
   "cell_type": "markdown",
   "metadata": {},
   "source": [
    "Уникальные значения в поле магазин"
   ]
  },
  {
   "cell_type": "code",
   "execution_count": 27,
   "metadata": {},
   "outputs": [
    {
     "data": {
      "text/plain": [
       "array(['Kanyon', 'Viaport Outlet', 'Metrocity', 'Metropol AVM',\n",
       "       'Istinye Park', 'Mall of Istanbul', 'Zorlu Center'], dtype=object)"
      ]
     },
     "execution_count": 27,
     "metadata": {},
     "output_type": "execute_result"
    }
   ],
   "source": [
    "re_df.shopping_mall.unique()"
   ]
  },
  {
   "cell_type": "code",
   "execution_count": null,
   "metadata": {},
   "outputs": [],
   "source": []
  },
  {
   "cell_type": "markdown",
   "metadata": {},
   "source": [
    "Выведите список уникальных магазинов"
   ]
  },
  {
   "cell_type": "code",
   "execution_count": 28,
   "metadata": {},
   "outputs": [
    {
     "data": {
      "text/plain": [
       "array(['Kanyon', 'Viaport Outlet', 'Metrocity', 'Metropol AVM',\n",
       "       'Istinye Park', 'Mall of Istanbul', 'Zorlu Center'], dtype=object)"
      ]
     },
     "execution_count": 28,
     "metadata": {},
     "output_type": "execute_result"
    }
   ],
   "source": [
    "re_df.shopping_mall.unique()"
   ]
  },
  {
   "cell_type": "code",
   "execution_count": null,
   "metadata": {},
   "outputs": [],
   "source": []
  },
  {
   "cell_type": "markdown",
   "metadata": {},
   "source": [
    "Посчитайте количество проданных товаров в разбивке по категориям. Выведите топ-3 наиболее продаваемых категорий товаров"
   ]
  },
  {
   "cell_type": "code",
   "execution_count": 29,
   "metadata": {},
   "outputs": [
    {
     "data": {
      "text/html": [
       "<div>\n",
       "<style scoped>\n",
       "    .dataframe tbody tr th:only-of-type {\n",
       "        vertical-align: middle;\n",
       "    }\n",
       "\n",
       "    .dataframe tbody tr th {\n",
       "        vertical-align: top;\n",
       "    }\n",
       "\n",
       "    .dataframe thead th {\n",
       "        text-align: right;\n",
       "    }\n",
       "</style>\n",
       "<table border=\"1\" class=\"dataframe\">\n",
       "  <thead>\n",
       "    <tr style=\"text-align: right;\">\n",
       "      <th></th>\n",
       "      <th>category</th>\n",
       "      <th>quantity</th>\n",
       "    </tr>\n",
       "  </thead>\n",
       "  <tbody>\n",
       "    <tr>\n",
       "      <th>1</th>\n",
       "      <td>Clothing</td>\n",
       "      <td>103598</td>\n",
       "    </tr>\n",
       "    <tr>\n",
       "      <th>2</th>\n",
       "      <td>Cosmetics</td>\n",
       "      <td>45501</td>\n",
       "    </tr>\n",
       "    <tr>\n",
       "      <th>3</th>\n",
       "      <td>Food &amp; Beverage</td>\n",
       "      <td>44281</td>\n",
       "    </tr>\n",
       "  </tbody>\n",
       "</table>\n",
       "</div>"
      ],
      "text/plain": [
       "          category  quantity\n",
       "1         Clothing    103598\n",
       "2        Cosmetics     45501\n",
       "3  Food & Beverage     44281"
      ]
     },
     "execution_count": 29,
     "metadata": {},
     "output_type": "execute_result"
    }
   ],
   "source": [
    "re_df.groupby(['category'], as_index = False).agg({'quantity' : 'sum'})\\\n",
    ".sort_values(by = 'quantity', ascending = False).head(3)"
   ]
  },
  {
   "cell_type": "code",
   "execution_count": null,
   "metadata": {},
   "outputs": [],
   "source": []
  },
  {
   "cell_type": "markdown",
   "metadata": {},
   "source": [
    "Посчитайте сумму продаж по штатам. Какой штат продает больше всего, а какой - меньше?"
   ]
  },
  {
   "cell_type": "code",
   "execution_count": 30,
   "metadata": {},
   "outputs": [
    {
     "name": "stderr",
     "output_type": "stream",
     "text": [
      "C:\\Users\\User\\AppData\\Local\\Temp\\ipykernel_33556\\2484977371.py:1: SettingWithCopyWarning: \n",
      "A value is trying to be set on a copy of a slice from a DataFrame.\n",
      "Try using .loc[row_indexer,col_indexer] = value instead\n",
      "\n",
      "See the caveats in the documentation: https://pandas.pydata.org/pandas-docs/stable/user_guide/indexing.html#returning-a-view-versus-a-copy\n",
      "  re_df['invoice_sum'] = re_df['quantity'] * re_df['selling_price_per_unit']\n"
     ]
    },
    {
     "data": {
      "text/html": [
       "<div>\n",
       "<style scoped>\n",
       "    .dataframe tbody tr th:only-of-type {\n",
       "        vertical-align: middle;\n",
       "    }\n",
       "\n",
       "    .dataframe tbody tr th {\n",
       "        vertical-align: top;\n",
       "    }\n",
       "\n",
       "    .dataframe thead th {\n",
       "        text-align: right;\n",
       "    }\n",
       "</style>\n",
       "<table border=\"1\" class=\"dataframe\">\n",
       "  <thead>\n",
       "    <tr style=\"text-align: right;\">\n",
       "      <th></th>\n",
       "      <th>state</th>\n",
       "      <th>invoice_sum</th>\n",
       "    </tr>\n",
       "  </thead>\n",
       "  <tbody>\n",
       "    <tr>\n",
       "      <th>2</th>\n",
       "      <td>California</td>\n",
       "      <td>48014602.55</td>\n",
       "    </tr>\n",
       "    <tr>\n",
       "      <th>14</th>\n",
       "      <td>New York</td>\n",
       "      <td>29344728.10</td>\n",
       "    </tr>\n",
       "    <tr>\n",
       "      <th>20</th>\n",
       "      <td>Texas</td>\n",
       "      <td>24842174.55</td>\n",
       "    </tr>\n",
       "    <tr>\n",
       "      <th>18</th>\n",
       "      <td>Pennsylvania</td>\n",
       "      <td>15021619.37</td>\n",
       "    </tr>\n",
       "    <tr>\n",
       "      <th>8</th>\n",
       "      <td>Illinois</td>\n",
       "      <td>12674594.05</td>\n",
       "    </tr>\n",
       "    <tr>\n",
       "      <th>22</th>\n",
       "      <td>Washington</td>\n",
       "      <td>12626612.80</td>\n",
       "    </tr>\n",
       "    <tr>\n",
       "      <th>16</th>\n",
       "      <td>Ohio</td>\n",
       "      <td>11457411.61</td>\n",
       "    </tr>\n",
       "    <tr>\n",
       "      <th>10</th>\n",
       "      <td>Iowa</td>\n",
       "      <td>11392717.41</td>\n",
       "    </tr>\n",
       "    <tr>\n",
       "      <th>4</th>\n",
       "      <td>Delaware</td>\n",
       "      <td>9484681.48</td>\n",
       "    </tr>\n",
       "    <tr>\n",
       "      <th>5</th>\n",
       "      <td>Florida</td>\n",
       "      <td>9441507.77</td>\n",
       "    </tr>\n",
       "    <tr>\n",
       "      <th>12</th>\n",
       "      <td>Massachusetts</td>\n",
       "      <td>6972220.01</td>\n",
       "    </tr>\n",
       "    <tr>\n",
       "      <th>13</th>\n",
       "      <td>Michigan</td>\n",
       "      <td>6432507.71</td>\n",
       "    </tr>\n",
       "    <tr>\n",
       "      <th>15</th>\n",
       "      <td>North Carolina</td>\n",
       "      <td>6321107.85</td>\n",
       "    </tr>\n",
       "    <tr>\n",
       "      <th>0</th>\n",
       "      <td>Alabama</td>\n",
       "      <td>6237506.70</td>\n",
       "    </tr>\n",
       "    <tr>\n",
       "      <th>1</th>\n",
       "      <td>Arizona</td>\n",
       "      <td>5781845.45</td>\n",
       "    </tr>\n",
       "    <tr>\n",
       "      <th>21</th>\n",
       "      <td>Virginia</td>\n",
       "      <td>5676466.38</td>\n",
       "    </tr>\n",
       "    <tr>\n",
       "      <th>19</th>\n",
       "      <td>Tennessee</td>\n",
       "      <td>4853987.89</td>\n",
       "    </tr>\n",
       "    <tr>\n",
       "      <th>17</th>\n",
       "      <td>Oregon</td>\n",
       "      <td>4659206.63</td>\n",
       "    </tr>\n",
       "    <tr>\n",
       "      <th>3</th>\n",
       "      <td>Colorado</td>\n",
       "      <td>4616451.79</td>\n",
       "    </tr>\n",
       "    <tr>\n",
       "      <th>6</th>\n",
       "      <td>Georgia</td>\n",
       "      <td>4573720.00</td>\n",
       "    </tr>\n",
       "    <tr>\n",
       "      <th>7</th>\n",
       "      <td>Idaho</td>\n",
       "      <td>4126904.81</td>\n",
       "    </tr>\n",
       "    <tr>\n",
       "      <th>11</th>\n",
       "      <td>Kentucky</td>\n",
       "      <td>3551195.05</td>\n",
       "    </tr>\n",
       "    <tr>\n",
       "      <th>9</th>\n",
       "      <td>Indiana</td>\n",
       "      <td>3461478.02</td>\n",
       "    </tr>\n",
       "  </tbody>\n",
       "</table>\n",
       "</div>"
      ],
      "text/plain": [
       "             state  invoice_sum\n",
       "2       California  48014602.55\n",
       "14        New York  29344728.10\n",
       "20           Texas  24842174.55\n",
       "18    Pennsylvania  15021619.37\n",
       "8         Illinois  12674594.05\n",
       "22      Washington  12626612.80\n",
       "16            Ohio  11457411.61\n",
       "10            Iowa  11392717.41\n",
       "4         Delaware   9484681.48\n",
       "5          Florida   9441507.77\n",
       "12   Massachusetts   6972220.01\n",
       "13        Michigan   6432507.71\n",
       "15  North Carolina   6321107.85\n",
       "0          Alabama   6237506.70\n",
       "1          Arizona   5781845.45\n",
       "21        Virginia   5676466.38\n",
       "19       Tennessee   4853987.89\n",
       "17          Oregon   4659206.63\n",
       "3         Colorado   4616451.79\n",
       "6          Georgia   4573720.00\n",
       "7            Idaho   4126904.81\n",
       "11        Kentucky   3551195.05\n",
       "9          Indiana   3461478.02"
      ]
     },
     "execution_count": 30,
     "metadata": {},
     "output_type": "execute_result"
    }
   ],
   "source": [
    "re_df['invoice_sum'] = re_df['quantity'] * re_df['selling_price_per_unit']\n",
    "re_df.groupby(['state'], as_index = False).agg({'invoice_sum' : 'sum'})\\\n",
    ".sort_values(by = 'invoice_sum', ascending = False)"
   ]
  },
  {
   "cell_type": "markdown",
   "metadata": {},
   "source": [
    "- Сумма продаж выше всего у Калифорнии, ниже всего - у Индианы"
   ]
  },
  {
   "cell_type": "code",
   "execution_count": null,
   "metadata": {},
   "outputs": [],
   "source": []
  },
  {
   "cell_type": "markdown",
   "metadata": {},
   "source": [
    "Разбейте покупателей на возрастные группы. Группы определите самостоятельно. Какая из этих групп тратит больше всего денег на одежду?"
   ]
  },
  {
   "cell_type": "code",
   "execution_count": 31,
   "metadata": {},
   "outputs": [
    {
     "data": {
      "text/plain": [
       "count    99451.000000\n",
       "mean        43.426904\n",
       "std         14.990030\n",
       "min         18.000000\n",
       "25%         30.000000\n",
       "50%         43.000000\n",
       "75%         56.000000\n",
       "max         69.000000\n",
       "Name: age, dtype: float64"
      ]
     },
     "execution_count": 31,
     "metadata": {},
     "output_type": "execute_result"
    }
   ],
   "source": [
    "re_df.age.describe()"
   ]
  },
  {
   "cell_type": "code",
   "execution_count": 32,
   "metadata": {},
   "outputs": [
    {
     "data": {
      "text/plain": [
       "52"
      ]
     },
     "execution_count": 32,
     "metadata": {},
     "output_type": "execute_result"
    }
   ],
   "source": [
    "re_df.age.nunique()"
   ]
  },
  {
   "cell_type": "markdown",
   "metadata": {},
   "source": [
    "Ниже построена столбчатая диаграмма распределения суммы всех покупок по возрастам и выведены топ-5 возрастов по наибольшим тратам"
   ]
  },
  {
   "cell_type": "code",
   "execution_count": 33,
   "metadata": {},
   "outputs": [
    {
     "data": {
      "image/png": "[encoded data removed]",
      "text/plain": [
       "<Figure size 1200x500 with 1 Axes>"
      ]
     },
     "metadata": {},
     "output_type": "display_data"
    }
   ],
   "source": [
    "import matplotlib.pyplot as plt\n",
    "%matplotlib inline\n",
    "\n",
    "re_df.groupby(['age'], as_index = False).agg({'invoice_sum' : 'sum'})\\\n",
    ".plot(x='age', kind='bar', figsize=(12, 5))\n",
    "\n",
    "plt.title('Зависимость возраста от суммы всех покупок (млн $)')\n",
    "plt.xlabel('Возраст')\n",
    "plt.ylabel('Суммма покупок')\n",
    "plt.show()"
   ]
  },
  {
   "cell_type": "code",
   "execution_count": 34,
   "metadata": {},
   "outputs": [
    {
     "data": {
      "text/html": [
       "<div>\n",
       "<style scoped>\n",
       "    .dataframe tbody tr th:only-of-type {\n",
       "        vertical-align: middle;\n",
       "    }\n",
       "\n",
       "    .dataframe tbody tr th {\n",
       "        vertical-align: top;\n",
       "    }\n",
       "\n",
       "    .dataframe thead th {\n",
       "        text-align: right;\n",
       "    }\n",
       "</style>\n",
       "<table border=\"1\" class=\"dataframe\">\n",
       "  <thead>\n",
       "    <tr style=\"text-align: right;\">\n",
       "      <th></th>\n",
       "      <th>age</th>\n",
       "      <th>invoice_sum</th>\n",
       "    </tr>\n",
       "  </thead>\n",
       "  <tbody>\n",
       "    <tr>\n",
       "      <th>19</th>\n",
       "      <td>37.0</td>\n",
       "      <td>5579271.45</td>\n",
       "    </tr>\n",
       "    <tr>\n",
       "      <th>46</th>\n",
       "      <td>64.0</td>\n",
       "      <td>5272475.10</td>\n",
       "    </tr>\n",
       "    <tr>\n",
       "      <th>33</th>\n",
       "      <td>51.0</td>\n",
       "      <td>5238724.74</td>\n",
       "    </tr>\n",
       "    <tr>\n",
       "      <th>4</th>\n",
       "      <td>22.0</td>\n",
       "      <td>5208190.85</td>\n",
       "    </tr>\n",
       "    <tr>\n",
       "      <th>9</th>\n",
       "      <td>27.0</td>\n",
       "      <td>5174859.86</td>\n",
       "    </tr>\n",
       "  </tbody>\n",
       "</table>\n",
       "</div>"
      ],
      "text/plain": [
       "     age  invoice_sum\n",
       "19  37.0   5579271.45\n",
       "46  64.0   5272475.10\n",
       "33  51.0   5238724.74\n",
       "4   22.0   5208190.85\n",
       "9   27.0   5174859.86"
      ]
     },
     "execution_count": 34,
     "metadata": {},
     "output_type": "execute_result"
    }
   ],
   "source": [
    "re_df.groupby(['age'], as_index = False).agg({'invoice_sum' : 'sum'})\\\n",
    ".sort_values(by = 'invoice_sum', ascending = False).head(5)"
   ]
  },
  {
   "cell_type": "markdown",
   "metadata": {},
   "source": [
    "Ниже построена столбчатая диаграмма распределения суммы всех покупок одежды по возрастам и выведены топ-5 возрастов по наибольшим тратам"
   ]
  },
  {
   "cell_type": "code",
   "execution_count": 35,
   "metadata": {},
   "outputs": [
    {
     "data": {
      "image/png": "[encoded data removed]",
      "text/plain": [
       "<Figure size 1200x500 with 1 Axes>"
      ]
     },
     "metadata": {},
     "output_type": "display_data"
    }
   ],
   "source": [
    "pivot_table = pd.pivot_table(\n",
    "    re_df.query(\"category == 'Clothing'\").groupby(['age', 'gender'], as_index = False)\\\n",
    "    .agg({'invoice_sum' : 'sum'}),\\\n",
    "    values='invoice_sum', index='age',\\\n",
    "    columns='gender',\\\n",
    "    aggfunc='sum')\n",
    "\n",
    "\n",
    "pivot_table.plot(kind='bar', stacked=True, figsize=(12, 5))\n",
    "plt.title('Зависимость пола и возраста от суммы покупок одежды (млн $)')\n",
    "plt.xlabel('Возраст')\n",
    "plt.ylabel('Суммма покупок')\n",
    "plt.show()"
   ]
  },
  {
   "cell_type": "code",
   "execution_count": 36,
   "metadata": {},
   "outputs": [
    {
     "data": {
      "text/html": [
       "<div>\n",
       "<style scoped>\n",
       "    .dataframe tbody tr th:only-of-type {\n",
       "        vertical-align: middle;\n",
       "    }\n",
       "\n",
       "    .dataframe tbody tr th {\n",
       "        vertical-align: top;\n",
       "    }\n",
       "\n",
       "    .dataframe thead th {\n",
       "        text-align: right;\n",
       "    }\n",
       "</style>\n",
       "<table border=\"1\" class=\"dataframe\">\n",
       "  <thead>\n",
       "    <tr style=\"text-align: right;\">\n",
       "      <th></th>\n",
       "      <th>age</th>\n",
       "      <th>invoice_sum</th>\n",
       "    </tr>\n",
       "  </thead>\n",
       "  <tbody>\n",
       "    <tr>\n",
       "      <th>9</th>\n",
       "      <td>27.0</td>\n",
       "      <td>2451353.52</td>\n",
       "    </tr>\n",
       "    <tr>\n",
       "      <th>46</th>\n",
       "      <td>64.0</td>\n",
       "      <td>2433648.80</td>\n",
       "    </tr>\n",
       "    <tr>\n",
       "      <th>30</th>\n",
       "      <td>48.0</td>\n",
       "      <td>2433048.64</td>\n",
       "    </tr>\n",
       "    <tr>\n",
       "      <th>19</th>\n",
       "      <td>37.0</td>\n",
       "      <td>2413543.44</td>\n",
       "    </tr>\n",
       "    <tr>\n",
       "      <th>25</th>\n",
       "      <td>43.0</td>\n",
       "      <td>2392237.76</td>\n",
       "    </tr>\n",
       "  </tbody>\n",
       "</table>\n",
       "</div>"
      ],
      "text/plain": [
       "     age  invoice_sum\n",
       "9   27.0   2451353.52\n",
       "46  64.0   2433648.80\n",
       "30  48.0   2433048.64\n",
       "19  37.0   2413543.44\n",
       "25  43.0   2392237.76"
      ]
     },
     "execution_count": 36,
     "metadata": {},
     "output_type": "execute_result"
    }
   ],
   "source": [
    "re_df.query(\"category == 'Clothing'\").groupby(['age'], as_index = False).agg({'invoice_sum' : 'sum'})\\\n",
    ".sort_values(by = 'invoice_sum', ascending = False).head(5)"
   ]
  },
  {
   "cell_type": "markdown",
   "metadata": {},
   "source": [
    "Возьмем топ-4 возраста по сумме трат на покупки. Получим 4 возрастных сегмента:\n",
    "- 18-27 лет\n",
    "- 28-37 лет\n",
    "- 38-48 лет\n",
    "- 49-69 лет"
   ]
  },
  {
   "cell_type": "code",
   "execution_count": 37,
   "metadata": {},
   "outputs": [
    {
     "name": "stderr",
     "output_type": "stream",
     "text": [
      "C:\\Users\\User\\AppData\\Local\\Temp\\ipykernel_33556\\3479237917.py:1: SettingWithCopyWarning: \n",
      "A value is trying to be set on a copy of a slice from a DataFrame.\n",
      "Try using .loc[row_indexer,col_indexer] = value instead\n",
      "\n",
      "See the caveats in the documentation: https://pandas.pydata.org/pandas-docs/stable/user_guide/indexing.html#returning-a-view-versus-a-copy\n",
      "  re_df['age_group_1'] = re_df['age'].apply(lambda x: '18-27 y.o' if x<= 27 \\\n"
     ]
    }
   ],
   "source": [
    "re_df['age_group_1'] = re_df['age'].apply(lambda x: '18-27 y.o' if x<= 27 \\\n",
    "                                        else '28-37 y.o' if x>27 and x<=37 \\\n",
    "                                        else '38-48 y.o' if x>37 and x<=48 \\\n",
    "                                        else '49-69 y.o' if x>48 \\\n",
    "                                       else None)"
   ]
  },
  {
   "cell_type": "code",
   "execution_count": 38,
   "metadata": {},
   "outputs": [
    {
     "data": {
      "text/plain": [
       "6"
      ]
     },
     "execution_count": 38,
     "metadata": {},
     "output_type": "execute_result"
    }
   ],
   "source": [
    "re_df.age_group_1.isna().sum()"
   ]
  },
  {
   "cell_type": "code",
   "execution_count": 39,
   "metadata": {},
   "outputs": [
    {
     "data": {
      "text/html": [
       "<div>\n",
       "<style scoped>\n",
       "    .dataframe tbody tr th:only-of-type {\n",
       "        vertical-align: middle;\n",
       "    }\n",
       "\n",
       "    .dataframe tbody tr th {\n",
       "        vertical-align: top;\n",
       "    }\n",
       "\n",
       "    .dataframe thead th {\n",
       "        text-align: right;\n",
       "    }\n",
       "</style>\n",
       "<table border=\"1\" class=\"dataframe\">\n",
       "  <thead>\n",
       "    <tr style=\"text-align: right;\">\n",
       "      <th></th>\n",
       "      <th>age_group_1</th>\n",
       "      <th>invoice_sum</th>\n",
       "      <th>percent</th>\n",
       "    </tr>\n",
       "  </thead>\n",
       "  <tbody>\n",
       "    <tr>\n",
       "      <th>3</th>\n",
       "      <td>49-69 y.o</td>\n",
       "      <td>45863927.12</td>\n",
       "      <td>40.23</td>\n",
       "    </tr>\n",
       "    <tr>\n",
       "      <th>2</th>\n",
       "      <td>38-48 y.o</td>\n",
       "      <td>24547444.24</td>\n",
       "      <td>21.53</td>\n",
       "    </tr>\n",
       "    <tr>\n",
       "      <th>0</th>\n",
       "      <td>18-27 y.o</td>\n",
       "      <td>22065182.48</td>\n",
       "      <td>19.35</td>\n",
       "    </tr>\n",
       "    <tr>\n",
       "      <th>1</th>\n",
       "      <td>28-37 y.o</td>\n",
       "      <td>21537941.92</td>\n",
       "      <td>18.89</td>\n",
       "    </tr>\n",
       "  </tbody>\n",
       "</table>\n",
       "</div>"
      ],
      "text/plain": [
       "  age_group_1  invoice_sum  percent\n",
       "3   49-69 y.o  45863927.12    40.23\n",
       "2   38-48 y.o  24547444.24    21.53\n",
       "0   18-27 y.o  22065182.48    19.35\n",
       "1   28-37 y.o  21537941.92    18.89"
      ]
     },
     "execution_count": 39,
     "metadata": {},
     "output_type": "execute_result"
    }
   ],
   "source": [
    "age_gr1 = re_df.query(\"category == 'Clothing'\").groupby(['age_group_1'], as_index = False)\\\n",
    ".agg({'invoice_sum' : 'sum'})\\\n",
    ".sort_values(by = 'invoice_sum', ascending = False)\n",
    "\n",
    "age_gr1['percent'] = round(age_gr1.invoice_sum / age_gr1.invoice_sum.sum() *100, 2)\n",
    "age_gr1"
   ]
  },
  {
   "cell_type": "markdown",
   "metadata": {},
   "source": [
    "Получилось так, что группа покупателей в возрасте от 49 до 69 лет забрала на себя большую часть рынка (40.23 % от общих трат на одежду)\n",
    "\n",
    "Попробуем еще поделить равноверно на 4 сегмента по 13 возрастов:\n",
    "- 18-30 молодежь\n",
    "- 31-43 взрослые люди\n",
    "- 44-56 предпенсионный возраст\n",
    "- 57-69 пожилые люди"
   ]
  },
  {
   "cell_type": "code",
   "execution_count": 40,
   "metadata": {},
   "outputs": [
    {
     "name": "stderr",
     "output_type": "stream",
     "text": [
      "C:\\Users\\User\\AppData\\Local\\Temp\\ipykernel_33556\\1054196087.py:1: SettingWithCopyWarning: \n",
      "A value is trying to be set on a copy of a slice from a DataFrame.\n",
      "Try using .loc[row_indexer,col_indexer] = value instead\n",
      "\n",
      "See the caveats in the documentation: https://pandas.pydata.org/pandas-docs/stable/user_guide/indexing.html#returning-a-view-versus-a-copy\n",
      "  re_df['age_group_2'] = re_df['age'].apply(lambda x: '18-30 y.o' if x<= 30 \\\n"
     ]
    }
   ],
   "source": [
    "re_df['age_group_2'] = re_df['age'].apply(lambda x: '18-30 y.o' if x<= 30 \\\n",
    "                                        else '31-43 y.o' if x>30 and x<=43 \\\n",
    "                                        else '44-56 y.o' if x>43 and x<=56 \\\n",
    "                                        else '57-69 y.o' if x>56 \\\n",
    "                                       else None)"
   ]
  },
  {
   "cell_type": "code",
   "execution_count": 41,
   "metadata": {},
   "outputs": [
    {
     "data": {
      "text/html": [
       "<div>\n",
       "<style scoped>\n",
       "    .dataframe tbody tr th:only-of-type {\n",
       "        vertical-align: middle;\n",
       "    }\n",
       "\n",
       "    .dataframe tbody tr th {\n",
       "        vertical-align: top;\n",
       "    }\n",
       "\n",
       "    .dataframe thead th {\n",
       "        text-align: right;\n",
       "    }\n",
       "</style>\n",
       "<table border=\"1\" class=\"dataframe\">\n",
       "  <thead>\n",
       "    <tr style=\"text-align: right;\">\n",
       "      <th></th>\n",
       "      <th>age_group_2</th>\n",
       "      <th>invoice_sum</th>\n",
       "      <th>percent</th>\n",
       "    </tr>\n",
       "  </thead>\n",
       "  <tbody>\n",
       "    <tr>\n",
       "      <th>0</th>\n",
       "      <td>18-30 y.o</td>\n",
       "      <td>28728758.96</td>\n",
       "      <td>25.20</td>\n",
       "    </tr>\n",
       "    <tr>\n",
       "      <th>2</th>\n",
       "      <td>44-56 y.o</td>\n",
       "      <td>28659140.40</td>\n",
       "      <td>25.14</td>\n",
       "    </tr>\n",
       "    <tr>\n",
       "      <th>3</th>\n",
       "      <td>57-69 y.o</td>\n",
       "      <td>28469489.84</td>\n",
       "      <td>24.97</td>\n",
       "    </tr>\n",
       "    <tr>\n",
       "      <th>1</th>\n",
       "      <td>31-43 y.o</td>\n",
       "      <td>28157106.56</td>\n",
       "      <td>24.70</td>\n",
       "    </tr>\n",
       "  </tbody>\n",
       "</table>\n",
       "</div>"
      ],
      "text/plain": [
       "  age_group_2  invoice_sum  percent\n",
       "0   18-30 y.o  28728758.96    25.20\n",
       "2   44-56 y.o  28659140.40    25.14\n",
       "3   57-69 y.o  28469489.84    24.97\n",
       "1   31-43 y.o  28157106.56    24.70"
      ]
     },
     "execution_count": 41,
     "metadata": {},
     "output_type": "execute_result"
    }
   ],
   "source": [
    "age_gr2 = re_df.query(\"category == 'Clothing'\").groupby(['age_group_2'], as_index = False)\\\n",
    ".agg({'invoice_sum' : 'sum'})\\\n",
    ".sort_values(by = 'invoice_sum', ascending = False)\n",
    "\n",
    "age_gr2['percent'] = round(age_gr2.invoice_sum / age_gr2.invoice_sum.sum() *100, 2)\n",
    "age_gr2"
   ]
  },
  {
   "cell_type": "markdown",
   "metadata": {},
   "source": [
    "Получилось так, что группа покупателей в возрасте от 18 до 30 лет стала лидером рынка (25.2 % от общих трат на одежду). Стоит отметить, что деление получилось равномерным - по четверти каждому. Для верного разделения стоит рассматривать задачу подробнее и учитывать влияющие факторы. В данном случае представлено 2 варианта разделения."
   ]
  },
  {
   "cell_type": "code",
   "execution_count": null,
   "metadata": {},
   "outputs": [],
   "source": []
  },
  {
   "cell_type": "markdown",
   "metadata": {},
   "source": [
    "Какая доля всех покупок оплачивалась наличными? Используйте файл Product_Payment.csv, чтобы подтянуть метод оплаты"
   ]
  },
  {
   "cell_type": "code",
   "execution_count": 42,
   "metadata": {},
   "outputs": [],
   "source": [
    "pr_pay = pd.read_csv('Product_Payment.csv')"
   ]
  },
  {
   "cell_type": "markdown",
   "metadata": {},
   "source": [
    "общая информация о датасете"
   ]
  },
  {
   "cell_type": "code",
   "execution_count": 43,
   "metadata": {},
   "outputs": [
    {
     "name": "stdout",
     "output_type": "stream",
     "text": [
      "Количество строк: 99457\n",
      "Количество полей: 2\n"
     ]
    }
   ],
   "source": [
    "print('Количество строк: ' + str(pr_pay.shape[0]))\n",
    "print('Количество полей: ' + str(pr_pay.shape[1]))"
   ]
  },
  {
   "cell_type": "code",
   "execution_count": 44,
   "metadata": {},
   "outputs": [
    {
     "data": {
      "text/plain": [
       "invoice_num       object\n",
       "payment_method    object\n",
       "dtype: object"
      ]
     },
     "execution_count": 44,
     "metadata": {},
     "output_type": "execute_result"
    }
   ],
   "source": [
    "pr_pay.dtypes"
   ]
  },
  {
   "cell_type": "code",
   "execution_count": 45,
   "metadata": {},
   "outputs": [
    {
     "data": {
      "text/plain": [
       "99457"
      ]
     },
     "execution_count": 45,
     "metadata": {},
     "output_type": "execute_result"
    }
   ],
   "source": [
    "pr_pay.invoice_num.nunique()"
   ]
  },
  {
   "cell_type": "code",
   "execution_count": 46,
   "metadata": {},
   "outputs": [
    {
     "data": {
      "text/plain": [
       "array(['Credit Card', 'Debit Card', 'Cash'], dtype=object)"
      ]
     },
     "execution_count": 46,
     "metadata": {},
     "output_type": "execute_result"
    }
   ],
   "source": [
    "pr_pay.payment_method.unique()"
   ]
  },
  {
   "cell_type": "code",
   "execution_count": 47,
   "metadata": {},
   "outputs": [
    {
     "name": "stdout",
     "output_type": "stream",
     "text": [
      "Доля чеков, оплаченных наличными, от общего кол-ва чеков: 44.69 %\n",
      "Доля суммы чеков, оплаченных наличными, от общей суммы чеков: 44.86 %\n"
     ]
    }
   ],
   "source": [
    "all_df = pd.merge(re_df,\n",
    "                 pr_pay,\n",
    "                 on = 'invoice_num',\n",
    "                 how = 'left')\n",
    "\n",
    "part_cash_invoices_sum = all_df.query(\"payment_method == 'Cash'\").invoice_sum.sum()/all_df.invoice_sum.sum()\n",
    "part_cash_invoices = all_df.query(\"payment_method == 'Cash'\").shape[0]/all_df.shape[0]\n",
    "\n",
    "print(\"Доля чеков, оплаченных наличными, от общего кол-ва чеков: \" + str(round(part_cash_invoices*100, 2)) + ' %')\n",
    "print(\"Доля суммы чеков, оплаченных наличными, от общей суммы чеков: \" + str(round(part_cash_invoices_sum*100, 2)) + ' %')"
   ]
  }
 ],
 "metadata": {
  "kernelspec": {
   "display_name": "Python 3 (ipykernel)",
   "language": "python",
   "name": "python3"
  },
  "language_info": {
   "codemirror_mode": {
    "name": "ipython",
    "version": 3
   },
   "file_extension": ".py",
   "mimetype": "text/x-python",
   "name": "python",
   "nbconvert_exporter": "python",
   "pygments_lexer": "ipython3",
   "version": "3.8.5"
  }
 },
 "nbformat": 4,
 "nbformat_minor": 4
}
